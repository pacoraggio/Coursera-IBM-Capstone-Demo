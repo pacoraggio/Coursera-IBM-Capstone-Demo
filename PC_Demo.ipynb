{
 "cells": [
  {
   "cell_type": "code",
   "execution_count": 1,
   "id": "a7418702-e812-4c18-9951-458f3141ce92",
   "metadata": {
    "tags": []
   },
   "outputs": [],
   "source": [
    "import pandas as pd\n",
    "import requests"
   ]
  },
  {
   "cell_type": "markdown",
   "id": "24ec9f29-ed3b-4b56-9eaa-3654b6274d73",
   "metadata": {},
   "source": [
    "# Collecting Job Data Using APIs - Issue with API call on Key Skill C "
   ]
  },
  {
   "cell_type": "markdown",
   "id": "912ce626-598c-4eb2-8dfb-f931046694ef",
   "metadata": {},
   "source": [
    "This notebook has been created to illustrate the issue I found to retrieve jobs data calling the Jobs API. \n",
    "\n",
    "> To run the Notebook, you need to run the associate `Jobs_API.ipynb` and make sure that the `job.json` file is in the same folder of the Notebook. The `job.json` file has been downloaded from https://cf-courses-data.s3.us.cloud-object-storage.appdomain.cloud/IBM-DA0321EN-SkillsNetwork/labs/module%201/Accessing%20Data%20Using%20APIs/jobs.json link"
   ]
  },
  {
   "cell_type": "markdown",
   "id": "e38641ea-05e1-44cb-9074-93f98c7e5b5a",
   "metadata": {},
   "source": [
    "## Number of job data based on Technology"
   ]
  },
  {
   "cell_type": "markdown",
   "id": "cdb86242-609a-4641-96d1-ca42ba171f2d",
   "metadata": {},
   "source": [
    "The following function returns the number of jobs matching the desired Technology"
   ]
  },
  {
   "cell_type": "code",
   "execution_count": 2,
   "id": "28019e65-8cff-4dea-a304-d9e0afdbc3a5",
   "metadata": {
    "tags": []
   },
   "outputs": [],
   "source": [
    "api_url=\"http://127.0.0.1:5000/data\"\n",
    "def get_number_of_jobs_T(technology):\n",
    "    payload={\"Key Skills\": technology}\n",
    "    response=requests.get(api_url, params=payload)\n",
    "    if response.ok:\n",
    "        number_of_jobs = len(response.json())\n",
    "    #your code goes here\n",
    "    return technology,number_of_jobs"
   ]
  },
  {
   "cell_type": "markdown",
   "id": "dcb5c703-93a9-4d87-af52-d91b14cbce6a",
   "metadata": {},
   "source": [
    "- Retrieving the number of jobs for `Python` technology"
   ]
  },
  {
   "cell_type": "code",
   "execution_count": 3,
   "id": "46470828-b8d0-41f0-9494-80a9359e34dc",
   "metadata": {
    "tags": []
   },
   "outputs": [
    {
     "data": {
      "text/plain": [
       "('Python', 1173)"
      ]
     },
     "execution_count": 3,
     "metadata": {},
     "output_type": "execute_result"
    }
   ],
   "source": [
    "get_number_of_jobs_T(\"Python\")"
   ]
  },
  {
   "cell_type": "markdown",
   "id": "d84c08c2-f2f6-47b5-be72-bb0328852686",
   "metadata": {},
   "source": [
    "Now, if we dig deep in the function, `get_number_of_jobs_T`, we can test if the result is consistent with the desired behavior"
   ]
  },
  {
   "cell_type": "code",
   "execution_count": 4,
   "id": "e88e0c7f-b9eb-4cb1-883b-76c6ebd8ee88",
   "metadata": {
    "tags": []
   },
   "outputs": [],
   "source": [
    "tech_test = 'Python'\n",
    "payload_test={\"Key Skills\": tech_test}\n",
    "response_test = requests.get(api_url, params=payload_test)"
   ]
  },
  {
   "cell_type": "markdown",
   "id": "a6025bc1-6810-4dfe-83e4-839ca8d67ca5",
   "metadata": {},
   "source": [
    "Let's see what `response_test` looks like examinating the json dump"
   ]
  },
  {
   "cell_type": "code",
   "execution_count": 7,
   "id": "d8c2d920-d715-47df-a9a8-76343f31a043",
   "metadata": {
    "tags": []
   },
   "outputs": [
    {
     "data": {
      "text/plain": [
       "[{'Functional Area': 'IT Hardware , Technical Support , Telecom Engineering',\n",
       "  'Id': 38,\n",
       "  'Industry': 'IT-Software, Software Services',\n",
       "  'Job Experience Required': '15 - 20 yrs',\n",
       "  'Job Title': 'nutanix sme',\n",
       "  'Key Skills': 'Troubleshooting| DNS| DHCP| Monitoring| Virtualization| Shell scripting|Python| VMS| Open source| Archiving',\n",
       "  'Location': 'Washington DC',\n",
       "  'Role': 'Technical Support Manager',\n",
       "  'Role Category': 'Technical Support'},\n",
       " {'Functional Area': 'IT Software - Application Programming , Maintenance',\n",
       "  'Id': 73,\n",
       "  'Industry': 'IT-Software, Software Services',\n",
       "  'Job Experience Required': '6 - 11 yrs',\n",
       "  'Job Title': 'Openstack Engineer / Openstack Admin with Ceph Storage',\n",
       "  'Key Skills': 'cloud| puppet|Python| git| KVM| linux| jenkins| openstack| ansible',\n",
       "  'Location': 'Washington DC',\n",
       "  'Role': 'System Analyst',\n",
       "  'Role Category': 'Programming & Design'},\n",
       " {'Functional Area': 'Analytics & Business Intelligence',\n",
       "  'Id': 117,\n",
       "  'Industry': 'IT-Software, Software Services',\n",
       "  'Job Experience Required': '4 - 9 yrs',\n",
       "  'Job Title': 'Manager/senior Manager- Analytics- Life & Annuities - Insurance Domain',\n",
       "  'Key Skills': 'Predictive Modeling| SAS| Data Management| Data Mining| Tableau| Data Analytics| Statistics| Analytics| SQL|Python',\n",
       "  'Location': 'Los Angeles',\n",
       "  'Role': 'Analytics Manager',\n",
       "  'Role Category': 'Analytics & BI'}]"
      ]
     },
     "execution_count": 7,
     "metadata": {},
     "output_type": "execute_result"
    }
   ],
   "source": [
    "response_test.json()[:3]"
   ]
  },
  {
   "cell_type": "markdown",
   "id": "06f9f956-76fa-4f25-924e-a18253ece966",
   "metadata": {},
   "source": [
    "More specifically, if we have a look to the `Key Skills` key we will find:"
   ]
  },
  {
   "cell_type": "code",
   "execution_count": 9,
   "id": "e3134bbd-271e-43af-a166-f66463ba8a7a",
   "metadata": {
    "tags": []
   },
   "outputs": [
    {
     "name": "stdout",
     "output_type": "stream",
     "text": [
      "C++| Linux| Information security| Debugging| Application development| Windows| Troubleshooting| Virtualization| SQL|Python\n",
      "Unix| Linux| MySQL| Computer science| Software design| DNS| Data structures| Perl| HTTP|Python\n",
      "SQL| Javascript|Python| rest| development| gaming| technical| software| testing| mobile| it| CSS3| Technical documentation| quality| Backend| Front end| Web services| HP data protector| ui| web| design| Software development life cycle| developer\n",
      "Chef| Unix| Linux| TCP| Automation|Python| CMS| Troubleshooting| DNS| Ruby\n",
      "Javascript| Application development|Python| Maven| development| css| DOM| software| JSON| nosql| spring| database| Version control| GIT| java| automation| RDBMS| Analytical| developer| api| mongodb\n",
      "Selenium| Android| Java| Automation Testing| Jenkins| Continuous Integration|Python| GIT| SVN| Agile Development\n",
      "Linux| HTML| SQL| Computer science| Coding| MySQL| Windows| Analytics| Android|Python\n",
      "Python| Business intelligence| Coding| Computer science| Machine learning| Hbase| MongoDb| NoSQL| Cassandra| Operations\n",
      "CSS| Power Bi| XML| Web Technologies| .Net| HTML| JSON|Python\n",
      "Chief Executive Officer| Networking|Python| Distribution system| Data processing| Team building| big data| Cloud| Operating systems| AWS\n"
     ]
    }
   ],
   "source": [
    "for i in range(40,50):\n",
    "    print(response_test.json()[i]['Key Skills'])"
   ]
  },
  {
   "cell_type": "markdown",
   "id": "b543a8cf-ccf9-4149-b33a-30094cd6e639",
   "metadata": {},
   "source": [
    "So, Python is a Skill we were looking for.\n",
    "\n",
    "Now let's try with `C` as Technology"
   ]
  },
  {
   "cell_type": "code",
   "execution_count": 11,
   "id": "7e04867b-2ee7-41ae-a200-b3aafc4496ef",
   "metadata": {
    "tags": []
   },
   "outputs": [
    {
     "data": {
      "text/plain": [
       "('C', 13498)"
      ]
     },
     "execution_count": 11,
     "metadata": {},
     "output_type": "execute_result"
    }
   ],
   "source": [
    "get_number_of_jobs_T(\"C\")"
   ]
  },
  {
   "cell_type": "markdown",
   "id": "b2a4a3cd-84d6-42f7-95e3-c2786c86598c",
   "metadata": {},
   "source": [
    "So, it looks like we have 13498 jobs data. But if we check further, as in the previous case of using `Python` as Technology, we will find:"
   ]
  },
  {
   "cell_type": "code",
   "execution_count": 12,
   "id": "ea229f05-fd4e-41b4-9d5d-6b5828856e05",
   "metadata": {
    "tags": []
   },
   "outputs": [],
   "source": [
    "tech_test = 'C'\n",
    "payload_test={\"Key Skills\": tech_test}\n",
    "response_test = requests.get(api_url, params=payload_test)"
   ]
  },
  {
   "cell_type": "code",
   "execution_count": 13,
   "id": "48a6001b-3b7f-48c9-90c3-89e280194794",
   "metadata": {
    "tags": []
   },
   "outputs": [
    {
     "name": "stdout",
     "output_type": "stream",
     "text": [
      "13498\n"
     ]
    }
   ],
   "source": [
    "print(len(response_test.json()))"
   ]
  },
  {
   "cell_type": "code",
   "execution_count": 14,
   "id": "4c26e015-4f56-48e3-98e1-80c001145dce",
   "metadata": {
    "tags": []
   },
   "outputs": [
    {
     "name": "stdout",
     "output_type": "stream",
     "text": [
      "Revenue Cycle Management| US Healthcare| Payment Posting| Medical Billing| Medical Coding| us visa| Team Leading Skills| Healthcare| Denial Management| RCM\n",
      "accounts executive| accountant| Stock Management| gst| auditing| Statutory Compliance| accounting| Account Assistant| Bank Reconciliation| tax audit| banking| monthly reports| Payroll| salary processing| income tax| Income Tax Return| taxation\n",
      "Informatica Power Center| Informatica\n",
      "Validation| Installation| Breakdown Maintenance| Industrial Safety| gmp| Boiler| Design| HVAC| Gensets| Air Compressor| Breakdown| RO| who\n",
      "Pay Per Click| Google AdWords| Search Engine Marketing| PPC| SEM| Google Analytics| Website Analysis| Yahoo| Web Analytics| Marketing Initiatives\n",
      "Project management| PPAP| Automotive| External audit| Conflict resolution| Resource mobilization| PFMEA| Risk management| Project life cycle\n",
      "PR| Public Relations| Media Relations| Social Media| Marketing Communication| corporate communication| media relation| corp comm| Online Media| public relation| Journalism| Advertising| mass communication\n",
      "Help Desk| Customer Service| customer relationship| access controls| Asset Management| Vendor Management\n",
      "Teaching| Educator| Counselor| Mentor| Trainer| Advisor\n",
      "X - Ray| Medical Transcription| Ultrasound| CT Scan\n"
     ]
    }
   ],
   "source": [
    "for i in range(40,50):\n",
    "    print(response_test.json()[i]['Key Skills'])"
   ]
  },
  {
   "cell_type": "markdown",
   "id": "2ae05dc1-0e23-4c75-91b5-9c71e4dc7db6",
   "metadata": {},
   "source": [
    "In this case, we don't find `C` in the `Key Skills` key. What am I doing wrong?"
   ]
  },
  {
   "cell_type": "code",
   "execution_count": null,
   "id": "73030f36-a12a-4485-b690-a88fc64a66da",
   "metadata": {},
   "outputs": [],
   "source": []
  },
  {
   "cell_type": "code",
   "execution_count": null,
   "id": "51f7947a-7761-4e96-adcc-8bf51299c2d9",
   "metadata": {},
   "outputs": [],
   "source": []
  },
  {
   "cell_type": "code",
   "execution_count": null,
   "id": "7e0c89f9-a65c-43c4-8ace-40e5d94c753e",
   "metadata": {},
   "outputs": [],
   "source": []
  }
 ],
 "metadata": {
  "kernelspec": {
   "display_name": "Python 3 (ipykernel)",
   "language": "python",
   "name": "python3"
  },
  "language_info": {
   "codemirror_mode": {
    "name": "ipython",
    "version": 3
   },
   "file_extension": ".py",
   "mimetype": "text/x-python",
   "name": "python",
   "nbconvert_exporter": "python",
   "pygments_lexer": "ipython3",
   "version": "3.9.13"
  }
 },
 "nbformat": 4,
 "nbformat_minor": 5
}
